{
 "cells": [
  {
   "cell_type": "code",
   "execution_count": 1,
   "id": "67a7c23c-7674-42c2-af6f-0bd5ac313329",
   "metadata": {},
   "outputs": [],
   "source": [
    "import sys\n",
    "import pandas as pd\n",
    "import numpy as np\n",
    "import nasdaqdatalink as ndl\n",
    "import os\n",
    "import psycopg2 as psg\n",
    "\n"
   ]
  },
  {
   "cell_type": "code",
   "execution_count": 2,
   "id": "83e011eb-1c80-48a8-b612-d4ed38fe69f8",
   "metadata": {},
   "outputs": [],
   "source": [
    "ndl.ApiConfig.api_key = os.getenv('NASDAQ_DATA_LINK_API_KEY')\n",
    "# try:\n",
    "#fetching region Table\n",
    "region_table = pd.DataFrame(ndl.get_table('ZILLOW/REGIONS', paginate = True))\n",
    "\n",
    "\n",
    "\n",
    "# except Exception as e:\n",
    "#     print(f\"Error: {e}\")\n",
    "\n",
    "\n"
   ]
  },
  {
   "cell_type": "code",
   "execution_count": 3,
   "id": "27e3d08f-f40e-4e0b-ae46-8f6c283af6ee",
   "metadata": {},
   "outputs": [
    {
     "name": "stdout",
     "output_type": "stream",
     "text": [
      "['city', 'zip', 'county']\n"
     ]
    }
   ],
   "source": [
    "\n",
    "# region_table['region'].astype(str)\n",
    "# region_table['region_type'].astype(str)\n",
    "\n",
    "#filtering df for only CA regions\n",
    "california_regionsdf = region_table[region_table['region'].str.contains('CA', na = False)]\n",
    "\n",
    "#print(california_regionsdf)\n",
    "\n",
    "#List of available regions\n",
    "region_types = list(california_regionsdf.drop_duplicates(subset = ['region_type'])['region_type'])\n",
    "\n",
    "#remove these as i do not want to track info for these region types\n",
    "region_types.remove('neigh')\n",
    "region_types.remove('metro')\n",
    "\n",
    "\n",
    "print(region_types)\n",
    "\n"
   ]
  },
  {
   "cell_type": "code",
   "execution_count": 4,
   "id": "68824a83-7ce2-4122-9c78-fce06d21b3c8",
   "metadata": {},
   "outputs": [],
   "source": [
    "#creating DataFrames for each city, county, zip#\n",
    "\n",
    "#creating df for city\n",
    "#creating copy of the data frame that only contains city types\n",
    "full_city_df = california_regionsdf[california_regionsdf['region_type'].str.contains(region_types[0])].copy()\n",
    "\n",
    "#print(full_city_df)\n",
    "\n",
    "#adding the state and city section from the region info\n",
    "full_city_df[['city','state','_']] = full_city_df['region'].str.split(';', n = 2, expand = True)\n",
    "\n",
    "#city data frame that only contains needed data for user\n",
    "city_df = full_city_df[['region_id','region_type', 'city', 'state']]\n",
    "\n",
    "#print(city_df)\n",
    "\n"
   ]
  },
  {
   "cell_type": "code",
   "execution_count": 5,
   "id": "72864a61-b0cb-4c21-98d3-ad8546560c65",
   "metadata": {},
   "outputs": [],
   "source": [
    "#creating data frame for zip\n",
    "\n",
    "#create copy df of regions that are only zip info\n",
    "full_zip_df = california_regionsdf[california_regionsdf['region_type'].str.contains(region_types[1])].copy()\n",
    "\n",
    "#add zipcode and state columns to df\n",
    "full_zip_df[['zipcode', 'state', '_']] = full_zip_df['region'].str.split(';', n = 2, expand = True)\n",
    "\n",
    "#df to be pushed to db\n",
    "zip_df = full_zip_df[['region_id', 'region_type', 'zipcode', 'state']]\n",
    "\n",
    "#print(zip_df)"
   ]
  },
  {
   "cell_type": "code",
   "execution_count": 59,
   "id": "ff01a0f3-62fa-46b8-92a7-9043470065f9",
   "metadata": {},
   "outputs": [],
   "source": [
    "#creating df for county\n",
    "\n",
    "full_county_df = california_regionsdf[california_regionsdf['region_type'].str.contains(region_types[2])].copy()\n",
    "\n",
    "#add county and state columns to df\n",
    "full_county_df[['county', 'state', '_']] = full_county_df['region'].str.split(';', n = 2, expand = True)\n",
    "\n",
    "#df to be pushed to db\n",
    "county_df = full_county_df[['region_id', 'region_type', 'county', 'state']]\n",
    "#print(county_df)\n"
   ]
  },
  {
   "cell_type": "code",
   "execution_count": 58,
   "id": "b6313e6c-7991-4ffc-8813-2a2dfcf3ed56",
   "metadata": {},
   "outputs": [],
   "source": [
    "indicator_table_full = pd.DataFrame(ndl.get_table('ZILLOW/INDICATORS'))\n",
    "\n",
    "raw_home_indicators = indicator_table_full[indicator_table_full['indicator'].str.contains('All Homes') & indicator_table_full['indicator'].str.contains('Raw')].copy()\n",
    "\n",
    "raw_monthly_home_indicators = raw_home_indicators[raw_home_indicators['indicator'].str.contains('Monthly')].copy()\n",
    "\n",
    "raw_monthly_home_indicators = pd.concat([raw_monthly_home_indicators, indicator_table_full.iloc[[3]]], ignore_index=True)\n",
    "\n",
    "#print(raw_monthly_home_indicators)"
   ]
  },
  {
   "cell_type": "code",
   "execution_count": 41,
   "id": "7de01ffb-d065-4141-bfd3-fbc89d3ab6b7",
   "metadata": {},
   "outputs": [
    {
     "name": "stdout",
     "output_type": "stream",
     "text": [
      "Series([], Name: value, dtype: object)\n"
     ]
    }
   ],
   "source": [
    "\n",
    "la_region = county_df[county_df['county'].str.contains('Los Angeles')]['region_id']\n",
    "\n",
    "la_region_id = la_region.iloc[0]\n",
    "\n",
    "#print(la_region_id)\n",
    "home_data_table = pd.DataFrame(ndl.get_table('ZILLOW/DATA', indicator_id = 'ISAM', region_id = la_region_id, paginate= True))\n",
    "\n",
    "home_data_values = home_data_table['value'].round(2)\n",
    "\n",
    "print(home_data_values)"
   ]
  },
  {
   "cell_type": "code",
   "execution_count": null,
   "id": "119b8187-a1f6-404c-a6d0-400ed09190ed",
   "metadata": {},
   "outputs": [],
   "source": []
  }
 ],
 "metadata": {
  "kernelspec": {
   "display_name": "Python 3 (ipykernel)",
   "language": "python",
   "name": "python3"
  },
  "language_info": {
   "codemirror_mode": {
    "name": "ipython",
    "version": 3
   },
   "file_extension": ".py",
   "mimetype": "text/x-python",
   "name": "python",
   "nbconvert_exporter": "python",
   "pygments_lexer": "ipython3",
   "version": "3.11.4"
  }
 },
 "nbformat": 4,
 "nbformat_minor": 5
}
