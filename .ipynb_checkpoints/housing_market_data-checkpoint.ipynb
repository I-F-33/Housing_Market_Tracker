{
 "cells": [
  {
   "cell_type": "code",
   "execution_count": 13,
   "id": "2d29fc6f-36df-4a0f-a15f-914b20c87a58",
   "metadata": {},
   "outputs": [
    {
     "name": "stdout",
     "output_type": "stream",
     "text": [
      "Collecting psycopg2-binary\n",
      "  Downloading psycopg2_binary-2.9.9-cp311-cp311-macosx_11_0_arm64.whl.metadata (4.4 kB)\n",
      "Downloading psycopg2_binary-2.9.9-cp311-cp311-macosx_11_0_arm64.whl (2.6 MB)\n",
      "\u001b[2K   \u001b[38;2;114;156;31m━━━━━━━━━━━━━━━━━━━━━━━━━━━━━━━━━━━━━━━━\u001b[0m \u001b[32m2.6/2.6 MB\u001b[0m \u001b[31m9.8 MB/s\u001b[0m eta \u001b[36m0:00:00\u001b[0m0m eta \u001b[36m0:00:01\u001b[0m0:01\u001b[0m01\u001b[0m\n",
      "\u001b[?25hInstalling collected packages: psycopg2-binary\n",
      "Successfully installed psycopg2-binary-2.9.9\n",
      "Note: you may need to restart the kernel to use updated packages.\n"
     ]
    }
   ],
   "source": [
    "pip install psycopg2-binary\n"
   ]
  },
  {
   "cell_type": "code",
   "execution_count": 2,
   "id": "67a7c23c-7674-42c2-af6f-0bd5ac313329",
   "metadata": {},
   "outputs": [],
   "source": [
    "import sys\n",
    "import pandas as pd\n",
    "import numpy as np\n",
    "import nasdaqdatalink as ndl\n",
    "import os\n",
    "import psycopg2 as psg\n",
    "\n"
   ]
  },
  {
   "cell_type": "code",
   "execution_count": 25,
   "id": "83e011eb-1c80-48a8-b612-d4ed38fe69f8",
   "metadata": {},
   "outputs": [],
   "source": [
    "ndl.ApiConfig.api_key = os.getenv('NASDAQ_DATA_LINK_API_KEY')\n",
    "# try:\n",
    "#fetching region Table\n",
    "region_table = pd.DataFrame(ndl.get_table('ZILLOW/REGIONS', paginate = True))\n",
    "\n",
    "\n",
    "\n",
    "# except Exception as e:\n",
    "#     print(f\"Error: {e}\")\n",
    "\n",
    "\n"
   ]
  },
  {
   "cell_type": "code",
   "execution_count": 24,
   "id": "27e3d08f-f40e-4e0b-ae46-8f6c283af6ee",
   "metadata": {},
   "outputs": [
    {
     "name": "stdout",
     "output_type": "stream",
     "text": [
      "      region_id region_type                                             region\n",
      "None                                                                          \n",
      "497        9940        city            Palo Cedro;CA;Redding, CA;Shasta County\n",
      "514       99380         zip            97635; CA; Modoc County; New Pine Creek\n",
      "579        9931        city  Jacumba;CA;San Diego-Chula Vista-Carlsbad, CA;...\n",
      "892        9889        city                 Ducor;CA;Visalia, CA;Tulare County\n",
      "934        9878        city                      Elk Creek;CA;nan;Glenn County\n",
      "...         ...         ...                                                ...\n",
      "88906    102086       neigh  Central;CA;San Francisco-Oakland-Berkeley, CA;...\n",
      "88929      1018      county                        Fresno County;CA;Fresno, CA\n",
      "88946     10157        city        Arcata;CA;Eureka-Arcata, CA;Humboldt County\n",
      "88949     10150        city  Anza;CA;Riverside-San Bernardino-Ontario, CA;R...\n",
      "88966     10128        city              Anderson;CA;Redding, CA;Shasta County\n",
      "\n",
      "[5352 rows x 3 columns]\n",
      "['city', 'zip', 'county']\n"
     ]
    }
   ],
   "source": [
    "#filtering df for only CA regions\n",
    "california_regionsdf = region_table[region_table['region'].str.contains('CA', na = False)]\n",
    "\n",
    "#print(california_regionsdf)\n",
    "\n",
    "#\n",
    "region_types = list(california_regionsdf.drop_duplicates(subset = ['region_type'])['region_type'])\n",
    "\n",
    "region_types.remove('neigh')\n",
    "region_types.remove('metro')\n",
    "\n",
    "print(region_types)\n",
    "\n"
   ]
  },
  {
   "cell_type": "code",
   "execution_count": 10,
   "id": "b6313e6c-7991-4ffc-8813-2a2dfcf3ed56",
   "metadata": {},
   "outputs": [
    {
     "name": "stdout",
     "output_type": "stream",
     "text": [
      "     indicator_id                                          indicator  \\\n",
      "None                                                                   \n",
      "0            ZSFH           ZHVI Single-Family Homes Time Series ($)   \n",
      "1            ZCON                   ZHVI Condo/Co-op Time Series ($)   \n",
      "2            ZATT           ZHVI All Homes- Top Tier Time Series ($)   \n",
      "3            ZALL  ZHVI All Homes (SFR, Condo/Co-op) Time Series ($)   \n",
      "4            ZABT        ZHVI All Homes- Bottom Tier Time Series ($)   \n",
      "5            Z5BR                    ZHVI 5+ Bedroom Time Series ($)   \n",
      "6            Z4BR                     ZHVI 4-Bedroom Time Series ($)   \n",
      "7            Z3BR                     ZHVI 3-Bedroom Time Series ($)   \n",
      "8            Z2BR                     ZHVI 2-Bedroom Time Series ($)   \n",
      "9            Z1BR                     ZHVI 1-Bedroom Time Series ($)   \n",
      "10           SSSW  Median Sale Price (Smooth, SFR only, Weekly View)   \n",
      "11           SSSM      Median Sale Price (Smooth, SFR only, Monthly)   \n",
      "12           SSAW  Median Sale Price (Smooth, All Homes, Weekly V...   \n",
      "13           SSAM     Median Sale Price (Smooth, All Homes, Monthly)   \n",
      "14           SRSW     Median Sale Price (Raw, SFR only, Weekly View)   \n",
      "15           SRSM         Median Sale Price (Raw, SFR only, Monthly)   \n",
      "16           SRAW    Median Sale Price (Raw, All Homes, Weekly View)   \n",
      "17           SRAM        Median Sale Price (Raw, All Homes, Monthly)   \n",
      "18           SASW  Median Sale Price (Smooth & Seasonally Adjuste...   \n",
      "19           SASM  Median Sale Price (Smooth & Seasonally Adjuste...   \n",
      "20           SAAW  Median Sale Price (Smooth & Seasonally Adjuste...   \n",
      "21           SAAM  Median Sale Price (Smooth & Seasonally Adjuste...   \n",
      "22           RSSA  ZORI (Smoothed, Seasonally Adjusted): All Home...   \n",
      "23           RSNA  ZORI (Smoothed): All Homes Plus Multifamily Ti...   \n",
      "24           NSAW  Median Days to Pending (Smooth, All Homes, Wee...   \n",
      "25           NSAM  Median Days to Pending (Smooth, All Homes, Mon...   \n",
      "26           NRAW  Median Days to Pending (Raw, All Homes, Weekly...   \n",
      "27           NRAM   Median Days to Pending (Raw, All Homes, Monthly)   \n",
      "28           MSAW  Mean Days to Pending (Smooth, All Homes, Weekl...   \n",
      "29           MSAM  Mean Days to Pending (Smooth, All Homes, Monthly)   \n",
      "30           MRAW  Mean Days to Pending (Raw, All Homes, Weekly V...   \n",
      "31           MRAM     Mean Days to Pending (Raw, All Homes, Monthly)   \n",
      "32           LSSW  Median List Price (Smooth, SFR Only, Weekly View)   \n",
      "33           LSSM      Median List Price (Smooth, SFR Only, Monthly)   \n",
      "34           LSAW  Median List Price (Smooth, All Homes, Weekly V...   \n",
      "35           LSAM     Median List Price (Smooth, All Homes, Monthly)   \n",
      "36           LRSW     Median List Price (Raw, SFR Only, Weekly View)   \n",
      "37           LRSM         Median List Price (Raw, SFR Only, Monthly)   \n",
      "38           LRAW    Median List Price (Raw, All Homes, Weekly View)   \n",
      "39           LRAM        Median List Price (Raw, All Homes, Monthly)   \n",
      "40           ISSW  For-Sale Inventory (Smooth, SFR only, Weekly V...   \n",
      "41           ISSM     For-Sale Inventory (Smooth, SFR only, Monthly)   \n",
      "42           ISAW  For-Sale Inventory (Smooth, All Homes, Weekly ...   \n",
      "43           ISAM    For-Sale Inventory (Smooth, All Homes, Monthly)   \n",
      "44           IRSW    For-sale Inventory (Raw, SFR only, Weekly View)   \n",
      "45           IRSM        For-sale Inventory (Raw, SFR only, Monthly)   \n",
      "46           IRAW   For-Sale Inventory (Raw, All Homes, Weekly View)   \n",
      "47           IRAM       For-Sale Inventory (Raw, All Homes, Monthly)   \n",
      "48           CSSW  Share of Listings With a Price Cut (Smooth, SF...   \n",
      "49           CSSM  Share of Listings With a Price Cut (Smooth, SF...   \n",
      "50           CSAW  Share of Listings With a Price Cut (Smooth, Al...   \n",
      "51           CSAM  Share of Listings With a Price Cut (Smooth, Al...   \n",
      "52           CRSW  Share of Listings With a Price Cut (Raw, SFR O...   \n",
      "53           CRSM  Share of Listings With a Price Cut (Raw, SFR O...   \n",
      "54           CRAW  Share of Listings With a Price Cut (Raw, All H...   \n",
      "55           CRAM  Share of Listings With a Price Cut (Raw, All H...   \n",
      "\n",
      "                 category  \n",
      "None                       \n",
      "0             Home values  \n",
      "1             Home values  \n",
      "2             Home values  \n",
      "3             Home values  \n",
      "4             Home values  \n",
      "5             Home values  \n",
      "6             Home values  \n",
      "7             Home values  \n",
      "8             Home values  \n",
      "9             Home values  \n",
      "10    Inventory and sales  \n",
      "11    Inventory and sales  \n",
      "12    Inventory and sales  \n",
      "13    Inventory and sales  \n",
      "14    Inventory and sales  \n",
      "15    Inventory and sales  \n",
      "16    Inventory and sales  \n",
      "17    Inventory and sales  \n",
      "18    Inventory and sales  \n",
      "19    Inventory and sales  \n",
      "20    Inventory and sales  \n",
      "21    Inventory and sales  \n",
      "22                Rentals  \n",
      "23                Rentals  \n",
      "24    Inventory and sales  \n",
      "25    Inventory and sales  \n",
      "26    Inventory and sales  \n",
      "27    Inventory and sales  \n",
      "28    Inventory and sales  \n",
      "29    Inventory and sales  \n",
      "30    Inventory and sales  \n",
      "31    Inventory and sales  \n",
      "32    Inventory and sales  \n",
      "33    Inventory and sales  \n",
      "34    Inventory and sales  \n",
      "35    Inventory and sales  \n",
      "36    Inventory and sales  \n",
      "37    Inventory and sales  \n",
      "38    Inventory and sales  \n",
      "39    Inventory and sales  \n",
      "40    Inventory and sales  \n",
      "41    Inventory and sales  \n",
      "42    Inventory and sales  \n",
      "43    Inventory and sales  \n",
      "44    Inventory and sales  \n",
      "45    Inventory and sales  \n",
      "46    Inventory and sales  \n",
      "47    Inventory and sales  \n",
      "48    Inventory and sales  \n",
      "49    Inventory and sales  \n",
      "50    Inventory and sales  \n",
      "51    Inventory and sales  \n",
      "52    Inventory and sales  \n",
      "53    Inventory and sales  \n",
      "54    Inventory and sales  \n",
      "55    Inventory and sales  \n"
     ]
    }
   ],
   "source": [
    "indicator_table = ndl.get_table('ZILLOW/INDICATORS')\n",
    "\n",
    "print(indicator_table)"
   ]
  },
  {
   "cell_type": "code",
   "execution_count": 23,
   "id": "7de01ffb-d065-4141-bfd3-fbc89d3ab6b7",
   "metadata": {},
   "outputs": [
    {
     "name": "stdout",
     "output_type": "stream",
     "text": [
      "None\n",
      "0       1651637.46\n",
      "1       1637822.64\n",
      "2       1635142.77\n",
      "3       1649719.55\n",
      "4       1669874.12\n",
      "           ...    \n",
      "2900       1833.00\n",
      "2901       1788.00\n",
      "2902       1769.00\n",
      "2903       1612.00\n",
      "2904       1862.00\n",
      "Name: value, Length: 2905, dtype: float64\n"
     ]
    }
   ],
   "source": [
    "home_region_id = home_zip_info['region_id']\n",
    "\n",
    "home_data_table = pd.DataFrame(ndl.get_table('ZILLOW/DATA', region_id = home_region_id))\n",
    "\n",
    "home_data_values = home_data_table['value'].round(2)\n",
    "\n",
    "print(home_data_values)"
   ]
  },
  {
   "cell_type": "code",
   "execution_count": null,
   "id": "50ce6cba-51fb-4855-ab70-cdccf951e6e3",
   "metadata": {},
   "outputs": [],
   "source": []
  }
 ],
 "metadata": {
  "kernelspec": {
   "display_name": "Python 3 (ipykernel)",
   "language": "python",
   "name": "python3"
  },
  "language_info": {
   "codemirror_mode": {
    "name": "ipython",
    "version": 3
   },
   "file_extension": ".py",
   "mimetype": "text/x-python",
   "name": "python",
   "nbconvert_exporter": "python",
   "pygments_lexer": "ipython3",
   "version": "3.11.4"
  }
 },
 "nbformat": 4,
 "nbformat_minor": 5
}
